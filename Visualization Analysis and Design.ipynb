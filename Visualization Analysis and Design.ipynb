{
 "cells": [
  {
   "cell_type": "markdown",
   "id": "e3413fa4-7cb8-44b3-9320-fca84ff0bcb1",
   "metadata": {},
   "source": [
    "# Visualization Analysis and Design\n",
    "\n",
    "https://www.cs.ubc.ca/~tmm/vadbook/"
   ]
  },
  {
   "cell_type": "code",
   "execution_count": null,
   "id": "f0b4224d-58da-4403-aabf-0eb38a3fc4da",
   "metadata": {},
   "outputs": [],
   "source": [
    "# Chapter 1"
   ]
  }
 ],
 "metadata": {
  "kernelspec": {
   "display_name": "Python 3 (ipykernel)",
   "language": "python",
   "name": "python3"
  },
  "language_info": {
   "codemirror_mode": {
    "name": "ipython",
    "version": 3
   },
   "file_extension": ".py",
   "mimetype": "text/x-python",
   "name": "python",
   "nbconvert_exporter": "python",
   "pygments_lexer": "ipython3",
   "version": "3.12.4"
  }
 },
 "nbformat": 4,
 "nbformat_minor": 5
}
