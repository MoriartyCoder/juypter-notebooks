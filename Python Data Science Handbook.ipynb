{
 "cells": [
  {
   "cell_type": "markdown",
   "id": "22fce257-1428-4bf2-a5e8-0611ee27b6e2",
   "metadata": {},
   "source": [
    "# Python Data Science Handbook\n",
    "\n",
    "https://jakevdp.github.io/PythonDataScienceHandbook/\n",
    "\n",
    "In my next semester I have a module called Data Visualization and Data Analysis. To prepare I take a deeper look into a referenced book."
   ]
  },
  {
   "cell_type": "markdown",
   "id": "5555aa45-b867-4c28-aad5-e69acd4aee88",
   "metadata": {},
   "source": [
    "## Numpy"
   ]
  },
  {
   "cell_type": "code",
   "execution_count": null,
   "id": "d766d3ac-0a82-486a-a8df-096d175a280e",
   "metadata": {},
   "outputs": [],
   "source": []
  }
 ],
 "metadata": {
  "kernelspec": {
   "display_name": "Python 3 (ipykernel)",
   "language": "python",
   "name": "python3"
  },
  "language_info": {
   "codemirror_mode": {
    "name": "ipython",
    "version": 3
   },
   "file_extension": ".py",
   "mimetype": "text/x-python",
   "name": "python",
   "nbconvert_exporter": "python",
   "pygments_lexer": "ipython3",
   "version": "3.12.3"
  }
 },
 "nbformat": 4,
 "nbformat_minor": 5
}
